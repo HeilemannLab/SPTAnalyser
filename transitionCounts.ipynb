{
 "cells": [
  {
   "cell_type": "markdown",
   "metadata": {},
   "source": [
    "# Transition counts of segments\n",
    "Count the transitions between different diffusion states of segments within trajectories."
   ]
  },
  {
   "cell_type": "code",
   "execution_count": 1,
   "metadata": {},
   "outputs": [],
   "source": [
    "from pySPT.widgets import widgetTransitionCounts\n",
    "from pySPT.widgets import loadTransitionCounts\n",
    "from pySPT.Analysis import transitionCount\n",
    "import tqdm.notebook as tqdm\n",
    "import pandas as pd\n",
    "import os"
   ]
  },
  {
   "cell_type": "markdown",
   "metadata": {},
   "source": [
    "## Load files from directories"
   ]
  },
  {
   "cell_type": "markdown",
   "metadata": {},
   "source": [
    "Define the path to the directory containing h5 files from trackAnalysis/trackStatistics and the corresponding .tracked.csv files from swift. Each target has two files (a h5 and a .tracked.csv) and the file naming must be the same for each target in order to match the files."
   ]
  },
  {
   "cell_type": "code",
   "execution_count": 2,
   "metadata": {
    "scrolled": false
   },
   "outputs": [
    {
     "data": {
      "application/vnd.jupyter.widget-view+json": {
       "model_id": "ed4b4432d7cf4c9fb18a8b3e2e7cdfd4",
       "version_major": 2,
       "version_minor": 0
      },
      "text/plain": [
       "Text(value='', description='Directory', placeholder='directory to be searched in', style=DescriptionStyle(desc…"
      ]
     },
     "metadata": {},
     "output_type": "display_data"
    },
    {
     "data": {
      "application/vnd.jupyter.widget-view+json": {
       "model_id": "f0c56422915545a19bc34c6b5ac9532b",
       "version_major": 2,
       "version_minor": 0
      },
      "text/plain": [
       "Button(description='browse', style=ButtonStyle(), tooltip='browse for directory')"
      ]
     },
     "metadata": {},
     "output_type": "display_data"
    }
   ],
   "source": [
    "input_paths = [r\"\"]  # adjust the default parameters\n",
    "n_dirs = 1\n",
    "dir_objects = []\n",
    "for n_dir in range(n_dirs):\n",
    "    file_dir = widgetTransitionCounts.DefineDirectory(\"Directory\", value=input_paths[n_dir])\n",
    "    file_dir.dir_button.on_click(file_dir.open_dir)\n",
    "    file_dir.dir_box.observe(file_dir.change_dir_box)\n",
    "    display(file_dir.dir_box, file_dir.dir_button)\n",
    "    dir_objects.append(file_dir)"
   ]
  },
  {
   "cell_type": "markdown",
   "metadata": {},
   "source": [
    "## Parameters"
   ]
  },
  {
   "cell_type": "markdown",
   "metadata": {},
   "source": [
    "*Diffusion states*: Number of diffusion type to distinguish: 3 = immobile+notype = one immobile population, confined, free; 4 = immobile, confined, free, notype <br/>\n",
    "*Mask value*: In trackAnalysis/trackStatistics only segments above a set length are classified into diffusion states. Mask unclassified short segments with a length in frames <= mask value for counting. A mask value = 0 means no masking is applied. <br/>\n",
    "*Save dir*: Specify the directory in which the results will be saved.<br/>\n",
    "*Save folder*: Specify the name of the results folder.<br/>\n",
    "When re-running the analysis, specify a new *Save dir* or *Save folder* as data will not be overwritten.\n",
    "\n",
    "Already run the analysis and directly want to visualize the results? Define the paths to the transition_counts.txt and trajectory_table.txt files under *Counts file* and *Trajectory file*. <br/>"
   ]
  },
  {
   "cell_type": "code",
   "execution_count": 3,
   "metadata": {
    "scrolled": true
   },
   "outputs": [
    {
     "data": {
      "application/vnd.jupyter.widget-view+json": {
       "model_id": "e9634ad3c2b44a94b8d2e982b395b6ff",
       "version_major": 2,
       "version_minor": 0
      },
      "text/plain": [
       "Text(value='3', description='Diffusion states', placeholder='number of diffusion states', style=DescriptionSty…"
      ]
     },
     "metadata": {},
     "output_type": "display_data"
    },
    {
     "data": {
      "application/vnd.jupyter.widget-view+json": {
       "model_id": "ee57c2e406fb4c7c9ea183404916fcbc",
       "version_major": 2,
       "version_minor": 0
      },
      "text/plain": [
       "Text(value='0', description='Mask value', placeholder='directory to save results', style=DescriptionStyle(desc…"
      ]
     },
     "metadata": {},
     "output_type": "display_data"
    },
    {
     "data": {
      "application/vnd.jupyter.widget-view+json": {
       "model_id": "a81d4b41e9254d9fb16c5a5dd72f248f",
       "version_major": 2,
       "version_minor": 0
      },
      "text/plain": [
       "Text(value='', description='Save dir', placeholder='directory to save results', style=DescriptionStyle(descrip…"
      ]
     },
     "metadata": {},
     "output_type": "display_data"
    },
    {
     "data": {
      "application/vnd.jupyter.widget-view+json": {
       "model_id": "02145d1c0d04469cbe0717caa2ce7bd6",
       "version_major": 2,
       "version_minor": 0
      },
      "text/plain": [
       "Text(value='transition_counting', description='Save folder', placeholder='name of results folder', style=Descr…"
      ]
     },
     "metadata": {},
     "output_type": "display_data"
    },
    {
     "name": "stdout",
     "output_type": "stream",
     "text": [
      "**************************************\n"
     ]
    },
    {
     "data": {
      "application/vnd.jupyter.widget-view+json": {
       "model_id": "ae9f90e7d6e74bf196cdf95bc692bbfc",
       "version_major": 2,
       "version_minor": 0
      },
      "text/plain": [
       "Text(value='', description='Counts file', placeholder='path to counts file', style=DescriptionStyle(descriptio…"
      ]
     },
     "metadata": {},
     "output_type": "display_data"
    },
    {
     "data": {
      "application/vnd.jupyter.widget-view+json": {
       "model_id": "a920aa9eb3b847249d24ed0dccc66bf1",
       "version_major": 2,
       "version_minor": 0
      },
      "text/plain": [
       "Text(value='', description='Trajectory file', placeholder='path to trajectory table file', style=DescriptionSt…"
      ]
     },
     "metadata": {},
     "output_type": "display_data"
    }
   ],
   "source": [
    "save_dir = r\"\"  # adjust the default parameters\n",
    "save_folder = r\"transition_counting\"\n",
    "counts_file = r\"\"\n",
    "trajectory_file = r\"\"\n",
    "widgets_params = widgetTransitionCounts.Parameter(3, 0, counts_file, trajectory_file, save_dir, save_folder)\n",
    "display(widgets_params.n_diff_states_box, widgets_params.mask_box, widgets_params.save_dir_box, widgets_params.save_folder_box)\n",
    "print(\"*\"*38)\n",
    "display(widgets_params.counts_file_box, widgets_params.trajectory_file_box)"
   ]
  },
  {
   "cell_type": "markdown",
   "metadata": {},
   "source": [
    "## Run Analysis"
   ]
  },
  {
   "cell_type": "markdown",
   "metadata": {},
   "source": [
    "Run, plot and save the analysis."
   ]
  },
  {
   "cell_type": "code",
   "execution_count": 4,
   "metadata": {
    "scrolled": false
   },
   "outputs": [
    {
     "data": {
      "application/vnd.jupyter.widget-view+json": {
       "model_id": "f8721e3c56874118b5ef873f4b105c46",
       "version_major": 2,
       "version_minor": 0
      },
      "text/plain": [
       "Button(description='run & save', style=ButtonStyle(), tooltip='run analysis')"
      ]
     },
     "metadata": {},
     "output_type": "display_data"
    }
   ],
   "source": [
    "stats = transitionCount.Statistic()\n",
    "widgets_run = widgetTransitionCounts.RunAnalysis()\n",
    "display(widgets_run.run_analysis_button)\n",
    "def run_analysis(event):\n",
    "    widgets_run.create_clear_output()\n",
    "    display(widgets_run.run_analysis_button)\n",
    "    dir_paths = [dir_object.dir_box.value for dir_object in dir_objects if dir_object.dir_box.value]\n",
    "    data = loadTransitionCounts.DataLoader(dir_paths)\n",
    "\n",
    "    if not widgets_params.counts_file_box.value or not widgets_params.trajectory_file_box.value:\n",
    "        if data.got_files:\n",
    "            # get counts\n",
    "            transition_counts = []\n",
    "            for idx in tqdm.tqdm(range(len(data.h5_files)), desc=\"Files\"):\n",
    "                transition_count = transitionCount.TransitionCounts(data.h5_names[idx], data.h5_files[idx], data.tracked_files[idx], int(widgets_params.n_diff_states_box.value), int(widgets_params.mask_box.value))\n",
    "                transition_counts.append(transition_count)\n",
    "            # transfer to stats class\n",
    "            stats.counts = [i.counts for i in transition_counts]\n",
    "            stats.trajectory_tables = [i.trajectory_table for i in transition_counts]\n",
    "            stats.sizes = [i.cell_size for i in transition_counts]\n",
    "            stats.n_diffusion_types = int(widgets_params.n_diff_states_box.value)\n",
    "            # save as txt file\n",
    "            os.mkdir(widgets_params.save_dir_box.value + \"\\\\\" + widgets_params.save_folder_box.value)\n",
    "            save_names = [i for i in data.h5_names]\n",
    "            transitionCount.save_counts(transition_counts, save_names, widgets_params.save_dir_box.value + \"\\\\\" + widgets_params.save_folder_box.value)\n",
    "            transitionCount.save_trajectory_tables([i.trajectory_table for i in transition_counts], widgets_params.save_dir_box.value + \"\\\\\" + widgets_params.save_folder_box.value)\n",
    "            transitionCount.save_mask_value(widgets_params.mask_box.value, widgets_params.save_dir_box.value + \"\\\\\" + widgets_params.save_folder_box.value)\n",
    "        else:\n",
    "            print(\"Directory does not contain required files.\")\n",
    "    else:\n",
    "        # read counts from txt file\n",
    "        pd_file = pd.read_csv(widgets_params.counts_file_box.value, sep=\"\\t\")\n",
    "        stats.counts = [list(pd_file.iloc[i,2:]) for i in range(len(pd_file))]\n",
    "        stats.sizes = list(pd_file.iloc[:,1])\n",
    "        stats.n_diffusion_types = 4 if pd_file.shape[1] == 19 else 3\n",
    "        trajectory_table = pd.read_csv(widgets_params.trajectory_file_box.value, sep=\"\\t\")\n",
    "        for name in trajectory_table[\"target.name\"].unique():\n",
    "            stats.trajectory_tables.append(trajectory_table[trajectory_table[\"target.name\"] == name])        \n",
    "        print(\"Transition counts files loaded.\")\n",
    "\n",
    "    stats.save_dir = widgets_params.save_dir_box.value + \"\\\\\" + widgets_params.save_folder_box.value\n",
    "    \n",
    "    # adjust axis min max limits of plots here, e.g. ylim=[0,1]\n",
    "    stats.vis_counts(counts=\"absolute\", norm=\"absolute\", ylim=[None, None])\n",
    "    stats.vis_counts(counts=\"absolute\", norm=\"global\", ylim=[None, None])\n",
    "    stats.vis_counts(counts=\"absolute\", norm=\"split\", ylim=[None, None])    \n",
    "    stats.segment_lengths_plot(xlim=[0,None], ylim=[0, None])\n",
    "    stats.segments_per_trajectory_plot(xlim=[0,10], ylim=[0, None])\n",
    "    stats.transitions_wo_none_plot(ylim=[0,1])\n",
    "\n",
    "    print(\"Analysis executed. Files successfully saved at\", widgets_params.save_dir_box.value + \"\\\\\" + widgets_params.save_folder_box.value)\n",
    "        \n",
    "widgets_run.run_analysis_button.on_click(run_analysis)"
   ]
  }
 ],
 "metadata": {
  "hide_input": true,
  "kernelspec": {
   "display_name": "Python 3 (ipykernel)",
   "language": "python",
   "name": "python3"
  },
  "language_info": {
   "codemirror_mode": {
    "name": "ipython",
    "version": 3
   },
   "file_extension": ".py",
   "mimetype": "text/x-python",
   "name": "python",
   "nbconvert_exporter": "python",
   "pygments_lexer": "ipython3",
   "version": "3.7.11"
  }
 },
 "nbformat": 4,
 "nbformat_minor": 2
}
